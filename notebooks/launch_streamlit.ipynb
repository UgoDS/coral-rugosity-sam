{
 "cells": [
  {
   "cell_type": "code",
   "execution_count": null,
   "metadata": {},
   "outputs": [],
   "source": [
    "!git clone https://github.com/UgoDS/coral-rugosity-sam\n",
    "!pip install -q streamlit streamlit-image-coordinates opencv-python matplotlib 'git+https://github.com/facebookresearch/segment-anything.git'\n",
    "# Create an image folder\n",
    "!mkdir images\n",
    "# Download SAM model\n",
    "!wget https://dl.fbaipublicfiles.com/segment_anything/sam_vit_h_4b8939.pth\n",
    "!npm install localtunnel\n",
    "!streamlit run app.py &>/content/logs.txt & npx localtunnel --port 8501 & curl ipv4.icanhazip.com"
   ]
  }
 ],
 "metadata": {
  "language_info": {
   "name": "python"
  }
 },
 "nbformat": 4,
 "nbformat_minor": 2
}
