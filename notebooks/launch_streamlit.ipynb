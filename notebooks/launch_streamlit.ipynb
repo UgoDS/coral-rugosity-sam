{
 "cells": [
  {
   "cell_type": "markdown",
   "metadata": {},
   "source": [
    "# Pre-requisites\n",
    "- You need to create a [github token](https://docs.github.com/en/authentication/keeping-your-account-and-data-secure/managing-your-personal-access-tokens)\n",
    "- You need to add a [secret in google colab](https://colab.research.google.com/github/gee-community/geemap/blob/master/examples/notebooks/00_ee_auth_colab.ipynb) named git-token"
   ]
  },
  {
   "cell_type": "code",
   "execution_count": null,
   "metadata": {},
   "outputs": [],
   "source": [
    "from google.colab import userdata\n",
    "\n",
    "str_git_clone = (\n",
    "    f\"https://{userdata.get('git-token')}@github.com/UgoDS/coral-rugosity-sam.git\"\n",
    ")\n",
    "!git clone {str_git_clone}\n",
    "%cd coral-rugosity-sam\n",
    "!pip install -q streamlit streamlit-image-coordinates opencv-python matplotlib 'git+https://github.com/facebookresearch/segment-anything.git'\n",
    "# Download SAM model\n",
    "!wget https://dl.fbaipublicfiles.com/segment_anything/sam_vit_h_4b8939.pth\n",
    "!wget https://dl.fbaipublicfiles.com/segment_anything/sam_vit_b_01ec64.pth\n",
    "!npm install localtunnel\n",
    "!streamlit run app.py &>/content/logs.txt & npx localtunnel --port 8501 & curl ipv4.icanhazip.com"
   ]
  }
 ],
 "metadata": {
  "language_info": {
   "name": "python"
  }
 },
 "nbformat": 4,
 "nbformat_minor": 2
}
